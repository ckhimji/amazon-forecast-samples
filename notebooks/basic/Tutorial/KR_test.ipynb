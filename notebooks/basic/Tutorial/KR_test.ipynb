{
 "cells": [
  {
   "cell_type": "markdown",
   "metadata": {},
   "source": [
    "## Using Amazon Forecast's Machine Learning tools to predict P&G future sales in Oman\n",
    "Chirayu Khimji\n",
    "\n",
    "MSc Applied Computational Science and Engineering\n",
    "\n",
    "Imperial College London\n",
    "\n",
    "\n",
    "Note: This notebook will not run on other machines due to privacy aspect of uploading P&G data (data is stored locally on my machine), its purpose is just to showcase the power of data science for KR CPG group.\n",
    "\n",
    "The overall process for using Amazon Forecast is the following:\n",
    "\n",
    "1. Create a Dataset Group, this is the large box that isolates models and the data they are trained on from each other.\n",
    "2. Create a Dataset, in Forecast there are 3 types of dataset, Target Time Series, Related Time Series, and Item Metadata. The Target Time Series is required, the others provide additional context with certain algorithms. \n",
    "3. Import data, this moves the information from S3 into a storage volume where the data can be used for training and validation.\n",
    "4. Train a model, Forecast automates this process for you but you can also select particular algorithms, and you can provide your own hyper parameters or use Hyper Parameter Optimization(HPO) to determine the most performant values for you.\n",
    "5. Deploy a Predictor, here you are deploying your model so you can use it to generate a forecast.\n",
    "6. Query the Forecast, given a request bounded by time for an item, return the forecast for it. Once you have this you can evaluate its performance or use it to guide your decisions about the future.\n",
    "\n",
    "In this notebook we walk through the steps outlined above. One additional task that will be done here is to trim part of our training and validation data so that we can measure the accuracy of a forecast against our predictions. "
   ]
  },
  {
   "cell_type": "markdown",
   "metadata": {},
   "source": [
    "## Table Of Contents\n",
    "* Setup\n",
    "* Data Preparation\n",
    "* Creating the Dataset Group and Dataset\n",
    "* Next Steps\n",
    "\n",
    "\n",
    "**Read Every Cell FULLY before executing it**\n",
    "\n",
    "For more informations about APIs, please check the [documentation](https://docs.aws.amazon.com/forecast/latest/dg/what-is-forecast.html)"
   ]
  },
  {
   "cell_type": "markdown",
   "metadata": {},
   "source": [
    "## Setup\n",
    "\n",
    "Import the standard Python libraries that are used in this lesson.\n",
    "\n"
   ]
  },
  {
   "cell_type": "code",
   "execution_count": 1,
   "metadata": {},
   "outputs": [],
   "source": [
    "import sys\n",
    "import os\n",
    "import json\n",
    "import time\n",
    "import pandas as pd\n",
    "import glob\n",
    "import paramiko\n",
    "import boto3\n",
    "\n",
    "# importing forecast notebook utility from notebooks/common directory\n",
    "sys.path.insert( 0, os.path.abspath(\"../../common\") )\n",
    "import util"
   ]
  },
  {
   "cell_type": "markdown",
   "metadata": {},
   "source": [
    "Configure the S3 bucket name and region name for this lesson.\n",
    "\n",
    "- If you don't have an S3 bucket, create it first on S3. If you used CloudFormation Wizard to set up the environment, use same bucket name as you specified in the setup process.\n",
    "- Although we have set the region to us-west-2 as a default value below, you can choose any of the regions that the service is available in."
   ]
  },
  {
   "cell_type": "code",
   "execution_count": 2,
   "metadata": {},
   "outputs": [
    {
     "output_type": "display_data",
     "data": {
      "text/plain": "Text(value='', description='bucket_name', placeholder='forecastdemochirayukhimji')",
      "application/vnd.jupyter.widget-view+json": {
       "version_major": 2,
       "version_minor": 0,
       "model_id": "fa6577972dca42fda73840cb965435ad"
      }
     },
     "metadata": {}
    },
    {
     "output_type": "display_data",
     "data": {
      "text/plain": "Text(value='', description='region', placeholder='ap-south-1')",
      "application/vnd.jupyter.widget-view+json": {
       "version_major": 2,
       "version_minor": 0,
       "model_id": "21152293c69c40799d010ca4102cf6d5"
      }
     },
     "metadata": {}
    }
   ],
   "source": [
    "##Code needs to be fixed\n",
    "text_widget_bucket = util.create_text_widget( \"bucket_name\", \"forecastdemochirayukhimji\")\n",
    "text_widget_region = util.create_text_widget( \"region\", \"ap-south-1\")"
   ]
  },
  {
   "cell_type": "code",
   "execution_count": 3,
   "metadata": {},
   "outputs": [],
   "source": [
    "##Code needs to be fixed\n",
    "bucket_name = \"forecastdemochirayukhimji\"\n",
    "assert bucket_name, \"bucket_name not set.\"\n",
    "\n",
    "region = \"ap-south-1\"\n",
    "assert region, \"region not set.\""
   ]
  },
  {
   "cell_type": "markdown",
   "metadata": {},
   "source": [
    "The last part of the setup process is to validate that your account can communicate with Amazon Forecast, the cell below does just that."
   ]
  },
  {
   "cell_type": "code",
   "execution_count": 4,
   "metadata": {},
   "outputs": [],
   "source": [
    "##Code needs to be fixed\n",
    "session = boto3.Session(region_name=region) \n",
    "forecast = session.client(service_name='forecast') \n",
    "forecastquery = session.client(service_name='forecastquery')"
   ]
  },
  {
   "cell_type": "markdown",
   "metadata": {},
   "source": [
    "## Data Preparation\n",
    "First we combine all the p&gsales_*.csv files using Pandas. This is done inorder to get one data frame which is chronologically sorted as a time series from 2016 to 2020"
   ]
  },
  {
   "cell_type": "code",
   "execution_count": 5,
   "metadata": {},
   "outputs": [],
   "source": [
    "#df = pd.read_excel(\"./p&gsales_1.xlsx\", index_col = \"Customer\")\n",
    "df1 = pd.read_csv(\"./p&gsales_1.csv\")\n",
    "df2 = pd.read_csv(\"./p&gsales_2.csv\")\n",
    "df3 = pd.read_csv(\"./p&gsales_3.csv\")\n",
    "df4 = pd.read_csv(\"./p&gsales_4.csv\")\n",
    "\n",
    "frames = [df1, df2, df3, df4]\n",
    "df = pd.concat(frames)"
   ]
  },
  {
   "cell_type": "markdown",
   "metadata": {},
   "source": [
    "Check the first 5 entries i.e. make sure they start as p&gsales_1.csv starts"
   ]
  },
  {
   "cell_type": "code",
   "execution_count": 6,
   "metadata": {},
   "outputs": [
    {
     "output_type": "execute_result",
     "data": {
      "text/plain": "   Customer        Date Material  Billed Value  Billed Qty\n0  60000707  03/01/2016   179045        40.752        24.0\n1  60000707  03/01/2016   179047        13.296         4.0\n2  60000707  03/01/2016   179051        18.176        64.0\n3  60000707  03/01/2016   179053        13.296         4.0\n4  60000707  03/01/2016   179058        40.752        24.0",
      "text/html": "<div>\n<style scoped>\n    .dataframe tbody tr th:only-of-type {\n        vertical-align: middle;\n    }\n\n    .dataframe tbody tr th {\n        vertical-align: top;\n    }\n\n    .dataframe thead th {\n        text-align: right;\n    }\n</style>\n<table border=\"1\" class=\"dataframe\">\n  <thead>\n    <tr style=\"text-align: right;\">\n      <th></th>\n      <th>Customer</th>\n      <th>Date</th>\n      <th>Material</th>\n      <th>Billed Value</th>\n      <th>Billed Qty</th>\n    </tr>\n  </thead>\n  <tbody>\n    <tr>\n      <th>0</th>\n      <td>60000707</td>\n      <td>03/01/2016</td>\n      <td>179045</td>\n      <td>40.752</td>\n      <td>24.0</td>\n    </tr>\n    <tr>\n      <th>1</th>\n      <td>60000707</td>\n      <td>03/01/2016</td>\n      <td>179047</td>\n      <td>13.296</td>\n      <td>4.0</td>\n    </tr>\n    <tr>\n      <th>2</th>\n      <td>60000707</td>\n      <td>03/01/2016</td>\n      <td>179051</td>\n      <td>18.176</td>\n      <td>64.0</td>\n    </tr>\n    <tr>\n      <th>3</th>\n      <td>60000707</td>\n      <td>03/01/2016</td>\n      <td>179053</td>\n      <td>13.296</td>\n      <td>4.0</td>\n    </tr>\n    <tr>\n      <th>4</th>\n      <td>60000707</td>\n      <td>03/01/2016</td>\n      <td>179058</td>\n      <td>40.752</td>\n      <td>24.0</td>\n    </tr>\n  </tbody>\n</table>\n</div>"
     },
     "metadata": {},
     "execution_count": 6
    }
   ],
   "source": [
    "df.head()"
   ]
  },
  {
   "cell_type": "markdown",
   "metadata": {},
   "source": [
    "Check the last 5 entries i.e. make sure they end as p&gsales_4.csv ends"
   ]
  },
  {
   "cell_type": "code",
   "execution_count": 7,
   "metadata": {},
   "outputs": [
    {
     "output_type": "execute_result",
     "data": {
      "text/plain": "        Customer        Date Material  Billed Value  Billed Qty\n302134  60097965  30/04/2020   212450        -8.556        -6.0\n302135  60097965  30/04/2020   248420       -22.128       -12.0\n302136  60097965  30/04/2020   266730        -6.240        -6.0\n302137  60097965  30/04/2020   267363       -15.096       -12.0\n302138  60097965  30/04/2020   283299       -27.360       -12.0",
      "text/html": "<div>\n<style scoped>\n    .dataframe tbody tr th:only-of-type {\n        vertical-align: middle;\n    }\n\n    .dataframe tbody tr th {\n        vertical-align: top;\n    }\n\n    .dataframe thead th {\n        text-align: right;\n    }\n</style>\n<table border=\"1\" class=\"dataframe\">\n  <thead>\n    <tr style=\"text-align: right;\">\n      <th></th>\n      <th>Customer</th>\n      <th>Date</th>\n      <th>Material</th>\n      <th>Billed Value</th>\n      <th>Billed Qty</th>\n    </tr>\n  </thead>\n  <tbody>\n    <tr>\n      <th>302134</th>\n      <td>60097965</td>\n      <td>30/04/2020</td>\n      <td>212450</td>\n      <td>-8.556</td>\n      <td>-6.0</td>\n    </tr>\n    <tr>\n      <th>302135</th>\n      <td>60097965</td>\n      <td>30/04/2020</td>\n      <td>248420</td>\n      <td>-22.128</td>\n      <td>-12.0</td>\n    </tr>\n    <tr>\n      <th>302136</th>\n      <td>60097965</td>\n      <td>30/04/2020</td>\n      <td>266730</td>\n      <td>-6.240</td>\n      <td>-6.0</td>\n    </tr>\n    <tr>\n      <th>302137</th>\n      <td>60097965</td>\n      <td>30/04/2020</td>\n      <td>267363</td>\n      <td>-15.096</td>\n      <td>-12.0</td>\n    </tr>\n    <tr>\n      <th>302138</th>\n      <td>60097965</td>\n      <td>30/04/2020</td>\n      <td>283299</td>\n      <td>-27.360</td>\n      <td>-12.0</td>\n    </tr>\n  </tbody>\n</table>\n</div>"
     },
     "metadata": {},
     "execution_count": 7
    }
   ],
   "source": [
    "df.tail()"
   ]
  },
  {
   "cell_type": "markdown",
   "metadata": {},
   "source": [
    "Print out the dimensions of this dataframe"
   ]
  },
  {
   "cell_type": "code",
   "execution_count": 8,
   "metadata": {},
   "outputs": [
    {
     "output_type": "stream",
     "name": "stdout",
     "text": "(3056772, 5)\n"
    }
   ],
   "source": [
    "print(df.shape)\n"
   ]
  },
  {
   "cell_type": "markdown",
   "metadata": {},
   "source": [
    "## Further Cleaning the data and formatting columns to correct data types"
   ]
  },
  {
   "cell_type": "markdown",
   "metadata": {},
   "source": [
    "Convert Date column into date-time data type\n",
    "\n",
    "Convert Billed Value column into float data type\n",
    "\n",
    "Convert Billed Qty column into float data type\n"
   ]
  },
  {
   "cell_type": "code",
   "execution_count": 9,
   "metadata": {},
   "outputs": [],
   "source": [
    "df['Date'] = df['Date'].astype('datetime64[ns]')\n",
    "df['Billed Value']= df['Billed Value'].astype('float')\n",
    "df['Billed Qty']=df['Billed Qty'].astype('float')"
   ]
  },
  {
   "cell_type": "markdown",
   "metadata": {},
   "source": [
    "Inspect the dataframe"
   ]
  },
  {
   "cell_type": "code",
   "execution_count": 10,
   "metadata": {},
   "outputs": [
    {
     "output_type": "execute_result",
     "data": {
      "text/plain": "        Customer       Date Material  Billed Value  Billed Qty\n0       60000707 2016-03-01   179045        40.752        24.0\n1       60000707 2016-03-01   179047        13.296         4.0\n2       60000707 2016-03-01   179051        18.176        64.0\n3       60000707 2016-03-01   179053        13.296         4.0\n4       60000707 2016-03-01   179058        40.752        24.0\n...          ...        ...      ...           ...         ...\n302134  60097965 2020-04-30   212450        -8.556        -6.0\n302135  60097965 2020-04-30   248420       -22.128       -12.0\n302136  60097965 2020-04-30   266730        -6.240        -6.0\n302137  60097965 2020-04-30   267363       -15.096       -12.0\n302138  60097965 2020-04-30   283299       -27.360       -12.0\n\n[3056772 rows x 5 columns]",
      "text/html": "<div>\n<style scoped>\n    .dataframe tbody tr th:only-of-type {\n        vertical-align: middle;\n    }\n\n    .dataframe tbody tr th {\n        vertical-align: top;\n    }\n\n    .dataframe thead th {\n        text-align: right;\n    }\n</style>\n<table border=\"1\" class=\"dataframe\">\n  <thead>\n    <tr style=\"text-align: right;\">\n      <th></th>\n      <th>Customer</th>\n      <th>Date</th>\n      <th>Material</th>\n      <th>Billed Value</th>\n      <th>Billed Qty</th>\n    </tr>\n  </thead>\n  <tbody>\n    <tr>\n      <th>0</th>\n      <td>60000707</td>\n      <td>2016-03-01</td>\n      <td>179045</td>\n      <td>40.752</td>\n      <td>24.0</td>\n    </tr>\n    <tr>\n      <th>1</th>\n      <td>60000707</td>\n      <td>2016-03-01</td>\n      <td>179047</td>\n      <td>13.296</td>\n      <td>4.0</td>\n    </tr>\n    <tr>\n      <th>2</th>\n      <td>60000707</td>\n      <td>2016-03-01</td>\n      <td>179051</td>\n      <td>18.176</td>\n      <td>64.0</td>\n    </tr>\n    <tr>\n      <th>3</th>\n      <td>60000707</td>\n      <td>2016-03-01</td>\n      <td>179053</td>\n      <td>13.296</td>\n      <td>4.0</td>\n    </tr>\n    <tr>\n      <th>4</th>\n      <td>60000707</td>\n      <td>2016-03-01</td>\n      <td>179058</td>\n      <td>40.752</td>\n      <td>24.0</td>\n    </tr>\n    <tr>\n      <th>...</th>\n      <td>...</td>\n      <td>...</td>\n      <td>...</td>\n      <td>...</td>\n      <td>...</td>\n    </tr>\n    <tr>\n      <th>302134</th>\n      <td>60097965</td>\n      <td>2020-04-30</td>\n      <td>212450</td>\n      <td>-8.556</td>\n      <td>-6.0</td>\n    </tr>\n    <tr>\n      <th>302135</th>\n      <td>60097965</td>\n      <td>2020-04-30</td>\n      <td>248420</td>\n      <td>-22.128</td>\n      <td>-12.0</td>\n    </tr>\n    <tr>\n      <th>302136</th>\n      <td>60097965</td>\n      <td>2020-04-30</td>\n      <td>266730</td>\n      <td>-6.240</td>\n      <td>-6.0</td>\n    </tr>\n    <tr>\n      <th>302137</th>\n      <td>60097965</td>\n      <td>2020-04-30</td>\n      <td>267363</td>\n      <td>-15.096</td>\n      <td>-12.0</td>\n    </tr>\n    <tr>\n      <th>302138</th>\n      <td>60097965</td>\n      <td>2020-04-30</td>\n      <td>283299</td>\n      <td>-27.360</td>\n      <td>-12.0</td>\n    </tr>\n  </tbody>\n</table>\n<p>3056772 rows × 5 columns</p>\n</div>"
     },
     "metadata": {},
     "execution_count": 10
    }
   ],
   "source": [
    "df"
   ]
  },
  {
   "cell_type": "markdown",
   "metadata": {},
   "source": [
    "## Create Training and Validation Set"
   ]
  },
  {
   "cell_type": "markdown",
   "metadata": {},
   "source": [
    "## Creating the Dataset Group and Dataset <a class=\"anchor\" id=\"dataset\"></a>\n",
    "\n",
    "In Amazon Forecast , a dataset is a collection of file(s) which contain data that is relevant for a forecasting task. A dataset must conform to a schema provided by Amazon Forecast. \n",
    "\n",
    "More details about `Domain` and dataset type can be found on the [documentation](https://docs.aws.amazon.com/forecast/latest/dg/howitworks-domains-ds-types.html) . For this example, we are using [CUSTOM](https://docs.aws.amazon.com/forecast/latest/dg/custom-domain.html) domain with 3 required attributes `timestamp`, `target_value` and `item_id`.\n",
    "\n",
    "\n",
    "It is important to also convey how Amazon Forecast can understand your time-series information. That the cell immediately below does that, the next one configures your variable names for the Project, DatasetGroup, and Dataset."
   ]
  },
  {
   "cell_type": "code",
   "execution_count": 11,
   "metadata": {},
   "outputs": [],
   "source": [
    "DATASET_FREQUENCY = \"D\"  \n",
    "TIMESTAMP_FORMAT = \"yyyy-MM-dd\""
   ]
  },
  {
   "cell_type": "code",
   "execution_count": 12,
   "metadata": {},
   "outputs": [
    {
     "output_type": "error",
     "ename": "NameError",
     "evalue": "name 'key' is not defined",
     "traceback": [
      "\u001b[0;31m---------------------------------------------------------------------------\u001b[0m",
      "\u001b[0;31mNameError\u001b[0m                                 Traceback (most recent call last)",
      "\u001b[0;32m<ipython-input-12-cc58fc05be69>\u001b[0m in \u001b[0;36m<module>\u001b[0;34m\u001b[0m\n\u001b[1;32m      2\u001b[0m \u001b[0mdatasetName\u001b[0m\u001b[0;34m=\u001b[0m \u001b[0mproject\u001b[0m\u001b[0;34m+\u001b[0m\u001b[0;34m'_ds'\u001b[0m\u001b[0;34m\u001b[0m\u001b[0;34m\u001b[0m\u001b[0m\n\u001b[1;32m      3\u001b[0m \u001b[0mdatasetGroupName\u001b[0m\u001b[0;34m=\u001b[0m \u001b[0mproject\u001b[0m \u001b[0;34m+\u001b[0m\u001b[0;34m'_dsg'\u001b[0m\u001b[0;34m\u001b[0m\u001b[0;34m\u001b[0m\u001b[0m\n\u001b[0;32m----> 4\u001b[0;31m \u001b[0ms3DataPath\u001b[0m \u001b[0;34m=\u001b[0m \u001b[0;34m\"s3://\"\u001b[0m\u001b[0;34m+\u001b[0m\u001b[0mbucket_name\u001b[0m\u001b[0;34m+\u001b[0m\u001b[0;34m\"/\"\u001b[0m\u001b[0;34m+\u001b[0m\u001b[0mkey\u001b[0m\u001b[0;34m\u001b[0m\u001b[0;34m\u001b[0m\u001b[0m\n\u001b[0m",
      "\u001b[0;31mNameError\u001b[0m: name 'key' is not defined"
     ]
    }
   ],
   "source": [
    "project = 'KRCPG_P&G_forecastdemo'\n",
    "datasetName= project+'_ds'\n",
    "datasetGroupName= project +'_dsg'\n",
    "s3DataPath = \"s3://\"+bucket_name+\"/\"+key"
   ]
  },
  {
   "cell_type": "code",
   "execution_count": null,
   "metadata": {},
   "outputs": [],
   "source": []
  },
  {
   "cell_type": "code",
   "execution_count": null,
   "metadata": {},
   "outputs": [],
   "source": []
  }
 ],
 "metadata": {
  "language_info": {
   "codemirror_mode": {
    "name": "ipython",
    "version": 3
   },
   "file_extension": ".py",
   "mimetype": "text/x-python",
   "name": "python",
   "nbconvert_exporter": "python",
   "pygments_lexer": "ipython3",
   "version": "3.7.7-final"
  },
  "orig_nbformat": 2,
  "kernelspec": {
   "name": "python37764bitbaseconda55a49d4626844cf39c6eb629cecf414d",
   "display_name": "Python 3.7.7 64-bit ('base': conda)"
  }
 },
 "nbformat": 4,
 "nbformat_minor": 2
}